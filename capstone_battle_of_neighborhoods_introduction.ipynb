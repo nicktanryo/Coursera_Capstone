{
 "cells": [
  {
   "cell_type": "markdown",
   "metadata": {},
   "source": [
    "# Introduction\n",
    "\n",
    "New York City is one of populous cities in United States where it provides a lot of business opportunities. So far this city has attracted numerous people into the area and is the center for banking, finance, technology, tourism, etc. With the currency status of the market, it is a competitve market and it might be a challange to start a proper business that is worth investing, therefore a carefull analysis is required before deciding whether a business is worth invested and this will help reduce the risk of business failure and potentially having a decent amount of return on investment.\n"
   ]
  },
  {
   "cell_type": "markdown",
   "metadata": {},
   "source": [
    "# Business Problem\n",
    "\n",
    "New York City is a multicultural place where different kinds of dishes can be found especially for western cuisine, and there seems to be a gap in the culinary industry where there might be a potential. Indonesian food is one of asian food that has not been marketed really well compare to other asian food such as japanese, korean, chinese, thai, etc. Starting a indonesian food restaurant can be a great start to market another type of asian food that might attract a certain group of people in New York, therefore openning the restaurant in a place where asian restaurants are available should give enough attention for the restaurant to grow, with the purpose of attracting existing asian cuisine lover to try out more of a similar delicacy.\n"
   ]
  }
 ],
 "metadata": {
  "language_info": {
   "name": "python",
   "nbconvert_exporter": "python"
  },
  "orig_nbformat": 4
 },
 "nbformat": 4,
 "nbformat_minor": 2
}