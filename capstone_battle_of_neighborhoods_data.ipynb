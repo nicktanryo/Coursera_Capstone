{
 "cells": [
  {
   "cell_type": "markdown",
   "metadata": {},
   "source": [
    "# Data\n",
    "\n",
    "To find the best location for indonesian restaurant, we will use the following sources of information:\n",
    "\n",
    "New York has a total of 5 boroughs and 306 neighborhoods. In order to segement the neighborhoods and explore them, we will essentially need a dataset that contains the 5 boroughs and the neighborhoods that exist in each borough as well as the the latitude and logitude coordinates of each neighborhood. \n",
    "dataset: https://geo.nyu.edu/catalog/nyu_2451_34572\n",
    "\n",
    "\n",
    "From Foursquare Venues Categories - https://developer.foursquare.com/docs/resources/categories Asian category Id - 4bf58dd8d48988d142941735 "
   ]
  }
 ],
 "metadata": {
  "language_info": {
   "name": "python",
   "nbconvert_exporter": "python"
  },
  "orig_nbformat": 4
 },
 "nbformat": 4,
 "nbformat_minor": 2
}